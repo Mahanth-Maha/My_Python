{
 "cells": [
  {
   "cell_type": "markdown",
   "metadata": {},
   "source": [
    "# DYNAMIC PROGRAMMING\n",
    "\n",
    "RULES :\n",
    "1. Build Solution\n",
    "2. Optimise it to Recursion solution\n",
    "3. Let's see if it has OPTIMAL SUBSTRUCTURE ?\n",
    "4. DP if YES else NO"
   ]
  },
  {
   "cell_type": "code",
   "execution_count": 1,
   "metadata": {},
   "outputs": [],
   "source": [
    "# One best Decorator of all time FAV ❤️\n",
    "from functools import lru_cache"
   ]
  },
  {
   "cell_type": "markdown",
   "metadata": {},
   "source": [
    "# Example 1 \n",
    "## Fibanocci Series\n",
    "\n",
    "```\n",
    "    fib series -> 0, 1, 1, 2, 3, 5, 8,...\n",
    "             n -> 0, 1, 2, 3, 4, 5, 6,...\n",
    "\n",
    "                   fib(n-1) + fib(n-2)     ; if n > 1 \n",
    "function fib =  {  1                       ; if n = 1     \n",
    "                   0                       ; if n = 0 \n",
    "```"
   ]
  },
  {
   "cell_type": "markdown",
   "metadata": {},
   "source": [
    "### Step 1 :\n",
    "Build Solution "
   ]
  },
  {
   "cell_type": "code",
   "execution_count": 2,
   "metadata": {},
   "outputs": [
    {
     "data": {
      "text/plain": [
       "8"
      ]
     },
     "execution_count": 2,
     "metadata": {},
     "output_type": "execute_result"
    }
   ],
   "source": [
    "def fib(n):\n",
    "    if n == 0:\n",
    "        return 0\n",
    "    elif n == 1:\n",
    "        return 1\n",
    "    else:\n",
    "        f0 = 0\n",
    "        f1 = 1\n",
    "        for i in range(n-1):\n",
    "            temp = f1 + f0\n",
    "            f0 = f1\n",
    "            f1 = temp\n",
    "        return f1\n",
    "fib(6)"
   ]
  },
  {
   "cell_type": "markdown",
   "metadata": {},
   "source": [
    "### Step 2 :\n",
    "Make Solution Recursive"
   ]
  },
  {
   "cell_type": "code",
   "execution_count": 3,
   "metadata": {},
   "outputs": [
    {
     "data": {
      "text/plain": [
       "(8, 25)"
      ]
     },
     "execution_count": 3,
     "metadata": {},
     "output_type": "execute_result"
    }
   ],
   "source": [
    "fibcalls = 0\n",
    "def fib(n):\n",
    "    global fibcalls\n",
    "    fibcalls += 1\n",
    "    if n == 0:\n",
    "        return 0\n",
    "    elif n == 1:\n",
    "        return 1\n",
    "    return fib(n-1) + fib(n-2)\n",
    "fib(6),fibcalls"
   ]
  },
  {
   "cell_type": "markdown",
   "metadata": {},
   "source": [
    "### Step 3 :\n",
    "Check for Overlapping Subproblems \n",
    "```\n",
    "\n",
    "                    fib(4)\n",
    "                    /      \\\n",
    "              fib(3)        fib(2)  \n",
    "              /     \\         /  \\ \n",
    "          fib(2)   fib(1) fib(1) fib(0)      \n",
    "          /    \\\n",
    "      fib(1)  fib(0)      \n",
    "\n",
    "```"
   ]
  },
  {
   "cell_type": "code",
   "execution_count": 4,
   "metadata": {},
   "outputs": [
    {
     "data": {
      "text/plain": [
       "(3, 9)"
      ]
     },
     "execution_count": 4,
     "metadata": {},
     "output_type": "execute_result"
    }
   ],
   "source": [
    "fibcalls = 0\n",
    "fib(4),fibcalls"
   ]
  },
  {
   "cell_type": "markdown",
   "metadata": {},
   "source": [
    "Out of 9 Calls there is unique calls are just 5 \n",
    "\n",
    "Therefore there is Optimal Substructure"
   ]
  },
  {
   "cell_type": "markdown",
   "metadata": {},
   "source": [
    "### Step 4 :\n",
    "## DP Methods :\n",
    "1. Top Down   - recursive memoization\n",
    "2. Bottum UP  - itterative Tabulation \n",
    "3. Cacheeeeeeeeeeeeeeeeeeeeeeeeeeeeee\n"
   ]
  },
  {
   "cell_type": "markdown",
   "metadata": {},
   "source": [
    "## DP : Method 1\n",
    "Top Down - Recursive - Memoization"
   ]
  },
  {
   "cell_type": "code",
   "execution_count": 5,
   "metadata": {},
   "outputs": [],
   "source": [
    "fib_DP_topDowncalls = 0\n",
    "DP_TD = {0:0,1:1}\n",
    "def fib_DP_topDown(n):\n",
    "    global fib_DP_topDowncalls\n",
    "    global DP_TD\n",
    "    fib_DP_topDowncalls += 1\n",
    "    if n in DP_TD:\n",
    "        return DP_TD[n]\n",
    "    DP_TD[n] = (fib_DP_topDown(n-1) if n-1 not in (0,1) else DP_TD[n-1]) + (fib_DP_topDown(n-2) if n-2 not in (0,1) else DP_TD[n-2] )\n",
    "    return DP_TD[n]\n",
    "# fib_DP_topDown(6),fib_DP_topDowncalls"
   ]
  },
  {
   "cell_type": "code",
   "execution_count": 6,
   "metadata": {},
   "outputs": [
    {
     "data": {
      "text/plain": [
       "(9, 4)"
      ]
     },
     "execution_count": 6,
     "metadata": {},
     "output_type": "execute_result"
    }
   ],
   "source": [
    "fibcalls = 0\n",
    "fib(4)\n",
    "fib_DP_topDowncalls = 0\n",
    "fib_DP_topDown(4)\n",
    "fibcalls,fib_DP_topDowncalls "
   ]
  },
  {
   "cell_type": "markdown",
   "metadata": {},
   "source": [
    "## DP : Method 2\n",
    "Bottom Up - Itterative - Tabultion"
   ]
  },
  {
   "cell_type": "code",
   "execution_count": 7,
   "metadata": {},
   "outputs": [],
   "source": [
    "fib_DP_BottomUpcalls = 0\n",
    "DP_BU = {0:0,1:1}\n",
    "def fib_DP_bottomUp(n):\n",
    "    global fib_DP_BottomUpcalls\n",
    "    global DP_BU\n",
    "    fib_DP_BottomUpcalls += 1\n",
    "    for i in range(2,n+1):\n",
    "        if i not in DP_BU:\n",
    "            DP_BU[i] = DP_BU[i-1] + DP_BU[i-2]\n",
    "    return DP_BU[n]\n",
    "# fib_DP_bottomUp(6),fib_DP_BottomUpcalls"
   ]
  },
  {
   "cell_type": "code",
   "execution_count": 8,
   "metadata": {},
   "outputs": [
    {
     "data": {
      "text/plain": [
       "(9, 1, 1)"
      ]
     },
     "execution_count": 8,
     "metadata": {},
     "output_type": "execute_result"
    }
   ],
   "source": [
    "fibcalls = 0\n",
    "fib(4)\n",
    "fib_DP_topDowncalls = 0\n",
    "fib_DP_topDown(4)\n",
    "fib_DP_bottomUp(4)\n",
    "fibcalls,fib_DP_topDowncalls,fib_DP_BottomUpcalls"
   ]
  },
  {
   "cell_type": "markdown",
   "metadata": {},
   "source": [
    "### Conclusion \n",
    "AS we can observe there is no recursive calls for Bottom Up so prefer BU than TP coming to Python Exclusive since there stack will give exceptions in TD for large input"
   ]
  },
  {
   "cell_type": "markdown",
   "metadata": {},
   "source": [
    "## DP : Method 3\n",
    "Cacheeeeeeeeeeeeeeeeeeeeeeee\n",
    "\n",
    "Recursive - Simple FAST"
   ]
  },
  {
   "cell_type": "code",
   "execution_count": 9,
   "metadata": {},
   "outputs": [],
   "source": [
    "from functools import lru_cache\n",
    "\n",
    "fibcalls_cache = 0\n",
    "\n",
    "@lru_cache\n",
    "def fib_cache(n):\n",
    "    global fibcalls_cache\n",
    "    fibcalls_cache += 1\n",
    "    if n == 0:\n",
    "        return 0\n",
    "    elif n == 1:\n",
    "        return 1\n",
    "    return (fib_DP_topDown(n-1) if n-1 not in (0,1) else n-1) + (fib_DP_topDown(n-2) if n-2 not in (0,1) else n-2 )\n",
    "\n",
    "# fib_cache(6),fibcalls_cache"
   ]
  },
  {
   "cell_type": "markdown",
   "metadata": {},
   "source": [
    "## Test On all versions"
   ]
  },
  {
   "cell_type": "code",
   "execution_count": 10,
   "metadata": {},
   "outputs": [],
   "source": [
    "K = 50"
   ]
  },
  {
   "cell_type": "code",
   "execution_count": 11,
   "metadata": {},
   "outputs": [
    {
     "data": {
      "text/plain": [
       "12586269025"
      ]
     },
     "execution_count": 11,
     "metadata": {},
     "output_type": "execute_result"
    }
   ],
   "source": [
    "fibcalls = 0\n",
    "fib(K)"
   ]
  },
  {
   "cell_type": "code",
   "execution_count": 16,
   "metadata": {},
   "outputs": [
    {
     "data": {
      "text/plain": [
       "12586269025"
      ]
     },
     "execution_count": 16,
     "metadata": {},
     "output_type": "execute_result"
    }
   ],
   "source": [
    "fib_DP_topDowncalls = 0\n",
    "fib_DP_topDown(K)"
   ]
  },
  {
   "cell_type": "code",
   "execution_count": 17,
   "metadata": {},
   "outputs": [
    {
     "data": {
      "text/plain": [
       "12586269025"
      ]
     },
     "execution_count": 17,
     "metadata": {},
     "output_type": "execute_result"
    }
   ],
   "source": [
    "fib_DP_BottomUpcalls = 0\n",
    "fib_DP_bottomUp(K)"
   ]
  },
  {
   "cell_type": "code",
   "execution_count": 18,
   "metadata": {},
   "outputs": [
    {
     "data": {
      "text/plain": [
       "12586269025"
      ]
     },
     "execution_count": 18,
     "metadata": {},
     "output_type": "execute_result"
    }
   ],
   "source": [
    "fibcalls_cache = 0\n",
    "fib_cache(K)"
   ]
  },
  {
   "cell_type": "code",
   "execution_count": 15,
   "metadata": {},
   "outputs": [
    {
     "data": {
      "text/plain": [
       "(40730022147, 95, 1, 1)"
      ]
     },
     "execution_count": 15,
     "metadata": {},
     "output_type": "execute_result"
    }
   ],
   "source": [
    "fibcalls,fib_DP_topDowncalls,fib_DP_BottomUpcalls,fibcalls_cache"
   ]
  },
  {
   "cell_type": "markdown",
   "metadata": {},
   "source": [
    "### Result of fib :\n",
    "\n",
    "    ALGO                   CALLS            TIME         SPACE  \n",
    "    fibcalls               40730022147      132m 56s     2n\n",
    "    fib_DP_topDowncalls    95               0.1s         2n\n",
    "    fib_DP_BottomUpcalls   1                1.6s         n\n",
    "    fibcalls_cache         1                0.9s         2n\n",
    "\n",
    "    Runinng Again \n",
    "    fib_DP_topDowncalls    1                0.1s         \n",
    "    fib_DP_BottomUpcalls   1                0.1s         \n",
    "    fibcalls_cache         1                0.4s         \n"
   ]
  }
 ],
 "metadata": {
  "kernelspec": {
   "display_name": "DS_Kernel",
   "language": "python",
   "name": "ds"
  },
  "language_info": {
   "codemirror_mode": {
    "name": "ipython",
    "version": 3
   },
   "file_extension": ".py",
   "mimetype": "text/x-python",
   "name": "python",
   "nbconvert_exporter": "python",
   "pygments_lexer": "ipython3",
   "version": "3.9.12"
  },
  "orig_nbformat": 4
 },
 "nbformat": 4,
 "nbformat_minor": 2
}
