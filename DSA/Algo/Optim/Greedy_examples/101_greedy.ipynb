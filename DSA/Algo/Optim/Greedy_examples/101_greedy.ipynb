{
 "cells": [
  {
   "cell_type": "markdown",
   "metadata": {},
   "source": [
    "# GREEDY PROGRAMMING\n",
    "\n",
    "RULES :\n",
    "1. Check if greedy about any parameter results in Optimal solution\n",
    "2. Let's see if it has OPTIMAL Solution every time ?\n",
    "3. GREEDY if YES else NO"
   ]
  },
  {
   "cell_type": "code",
   "execution_count": null,
   "metadata": {},
   "outputs": [],
   "source": []
  }
 ],
 "metadata": {
  "kernelspec": {
   "display_name": "Python 3.9.13 64-bit",
   "language": "python",
   "name": "python3"
  },
  "language_info": {
   "name": "python",
   "version": "3.9.13"
  },
  "orig_nbformat": 4,
  "vscode": {
   "interpreter": {
    "hash": "a075be670f002415fc65291a584e903cef0587159d6bdf77e827b87cdcbb0bd0"
   }
  }
 },
 "nbformat": 4,
 "nbformat_minor": 2
}
