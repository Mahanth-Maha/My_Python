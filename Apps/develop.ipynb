{
 "cells": [
  {
   "cell_type": "markdown",
   "metadata": {},
   "source": [
    "## 40 hz play"
   ]
  },
  {
   "cell_type": "code",
   "execution_count": 3,
   "metadata": {},
   "outputs": [],
   "source": [
    "# !pip install pyaudio"
   ]
  },
  {
   "cell_type": "markdown",
   "metadata": {},
   "source": [
    "#### Status : Working"
   ]
  },
  {
   "cell_type": "code",
   "execution_count": 2,
   "metadata": {},
   "outputs": [],
   "source": [
    "import numpy as np\n",
    "import pyaudio\n",
    "\n",
    "def generate_sine_wave(freq, duration, sample_rate=44100, amplitude=0.5):\n",
    "    t = np.linspace(0, duration, int(sample_rate * duration), endpoint=False)\n",
    "    return amplitude * np.sin(2 * np.pi * freq * t)\n",
    "\n",
    "def play_wave(stream, data, sample_rate):\n",
    "    wave_data = (data * 32767).astype(np.int16).tobytes()\n",
    "    stream.write(wave_data)\n",
    "\n",
    "p = pyaudio.PyAudio()\n",
    "\n",
    "sample_rate = 44100\n",
    "stream = p.open(format=pyaudio.paInt16,\n",
    "                channels=1,\n",
    "                rate=sample_rate,\n",
    "                output=True)\n",
    "\n",
    "\n",
    "sine_wave = generate_sine_wave(40, 10, sample_rate)\n",
    "play_wave(stream, sine_wave, sample_rate)\n",
    "\n",
    "# Cleanup\n",
    "stream.stop_stream()\n",
    "stream.close()\n",
    "p.terminate()"
   ]
  },
  {
   "cell_type": "markdown",
   "metadata": {},
   "source": [
    "saving into file"
   ]
  },
  {
   "cell_type": "code",
   "execution_count": 3,
   "metadata": {},
   "outputs": [],
   "source": [
    "import wave\n",
    "import struct\n",
    "\n",
    "wave_data = generate_sine_wave(40, 10*60)\n",
    "\n",
    "wav_file = wave.open(\"./FrequencyGenerator/40Hz_sine_wave.wav\", 'w')\n",
    "wav_file.setparams((1, 2, sample_rate, len(wave_data), \"NONE\",\"not compressed\" ))\n",
    "for s in wave_data:\n",
    "    wav_file.writeframes(struct.pack('h', int(s * 32767.0)))\n",
    "\n",
    "wav_file.close()"
   ]
  }
 ],
 "metadata": {
  "kernelspec": {
   "display_name": "base",
   "language": "python",
   "name": "python3"
  },
  "language_info": {
   "codemirror_mode": {
    "name": "ipython",
    "version": 3
   },
   "file_extension": ".py",
   "mimetype": "text/x-python",
   "name": "python",
   "nbconvert_exporter": "python",
   "pygments_lexer": "ipython3",
   "version": "3.10.14"
  }
 },
 "nbformat": 4,
 "nbformat_minor": 2
}
