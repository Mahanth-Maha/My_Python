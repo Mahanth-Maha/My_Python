{
 "cells": [
  {
   "cell_type": "markdown",
   "metadata": {},
   "source": [
    "# Data Strucutres in Python\n",
    "lists\n",
    "Tuple\n",
    "sets"
   ]
  },
  {
   "cell_type": "code",
   "execution_count": null,
   "metadata": {},
   "outputs": [],
   "source": []
  },
  {
   "cell_type": "code",
   "execution_count": 77,
   "metadata": {},
   "outputs": [],
   "source": [
    "#Setup imports\n",
    "from IPython.core.interactiveshell import InteractiveShell\n",
    "InteractiveShell.ast_node_interactivity = \"all\""
   ]
  },
  {
   "cell_type": "markdown",
   "metadata": {},
   "source": [
    "## Lists \n",
    "\n",
    "- mutable"
   ]
  },
  {
   "cell_type": "code",
   "execution_count": 61,
   "metadata": {},
   "outputs": [
    {
     "data": {
      "text/plain": [
       "[1, 2, 3, 4, 'c', 'hello', 3.456]"
      ]
     },
     "execution_count": 61,
     "metadata": {},
     "output_type": "execute_result"
    }
   ],
   "source": [
    "# Basics\n",
    "\n",
    "# Creating a List with the use of multiple values\n",
    "list_var = [1,2,3,4,'c',\"hello\",3.456]\n",
    "list_var"
   ]
  },
  {
   "cell_type": "code",
   "execution_count": 62,
   "metadata": {},
   "outputs": [
    {
     "data": {
      "text/plain": [
       "[[346, 'to'], ['hi', 'nice']]"
      ]
     },
     "execution_count": 62,
     "metadata": {},
     "output_type": "execute_result"
    }
   ],
   "source": [
    "\n",
    "# Creating a Multi-Dimensional List (By Nesting a list inside a List)\n",
    "list_var_2 = [[346, 'to'], [\"hi\",\"nice\"]]\n",
    "list_var_2"
   ]
  },
  {
   "cell_type": "code",
   "execution_count": 63,
   "metadata": {},
   "outputs": [
    {
     "data": {
      "text/plain": [
       "1"
      ]
     },
     "execution_count": 63,
     "metadata": {},
     "output_type": "execute_result"
    }
   ],
   "source": [
    "# index number\n",
    "list_var[0]"
   ]
  },
  {
   "cell_type": "code",
   "execution_count": 64,
   "metadata": {},
   "outputs": [
    {
     "data": {
      "text/plain": [
       "3.456"
      ]
     },
     "execution_count": 64,
     "metadata": {},
     "output_type": "execute_result"
    }
   ],
   "source": [
    "# negative indexing\n",
    "list_var[-1]"
   ]
  },
  {
   "cell_type": "code",
   "execution_count": 65,
   "metadata": {},
   "outputs": [
    {
     "name": "stdout",
     "output_type": "stream",
     "text": [
      "list_var[2:4]=[3, 4]\n",
      "list_var[-2:2:-1]=['hello', 'c', 4]\n"
     ]
    }
   ],
   "source": [
    "# slicing\n",
    "print(f'{list_var[2:4]=}\\n{list_var[-2:2:-1]=}')"
   ]
  },
  {
   "cell_type": "code",
   "execution_count": 105,
   "metadata": {},
   "outputs": [
    {
     "data": {
      "text/plain": [
       "2"
      ]
     },
     "execution_count": 105,
     "metadata": {},
     "output_type": "execute_result"
    }
   ],
   "source": [
    "# indexof\n",
    "list_var.index(list_var[2])"
   ]
  },
  {
   "cell_type": "code",
   "execution_count": 66,
   "metadata": {},
   "outputs": [],
   "source": [
    "#operations\n",
    "l = [23,34,52,65,8,2,3]"
   ]
  },
  {
   "cell_type": "code",
   "execution_count": 67,
   "metadata": {},
   "outputs": [
    {
     "name": "stdout",
     "output_type": "stream",
     "text": [
      "COPIED SORT : l=[23, 34, 52, 65, 8, 2, 3] -> s_l=[2, 3, 8, 23, 34, 52, 65]\n",
      "inplace SORT : l=[2, 3, 8, 23, 34, 52, 65]\n"
     ]
    }
   ],
   "source": [
    "# copied sort\n",
    "s_l = sorted(l,key=None,reverse=False)\n",
    "print(f'COPIED SORT : {l=} -> {s_l=}')\n",
    "# inplace sort\n",
    "l.sort(key=None,reverse=False)\n",
    "print(f'inplace SORT : {l=}')"
   ]
  },
  {
   "cell_type": "code",
   "execution_count": 68,
   "metadata": {},
   "outputs": [
    {
     "data": {
      "text/plain": [
       "[2, 3, 8, 23, 34, 52, 65, 76]"
      ]
     },
     "execution_count": 68,
     "metadata": {},
     "output_type": "execute_result"
    }
   ],
   "source": [
    "# ADD\n",
    "# append / Push / insert end\n",
    "l.append(76)\n",
    "l"
   ]
  },
  {
   "cell_type": "code",
   "execution_count": 69,
   "metadata": {},
   "outputs": [
    {
     "data": {
      "text/plain": [
       "[2, 3, 8, 23, 34, 52, 65, 76, 56, 99, 95]"
      ]
     },
     "execution_count": 69,
     "metadata": {},
     "output_type": "execute_result"
    }
   ],
   "source": [
    "# add another iterable\n",
    "l.extend([56,99,95])\n",
    "l"
   ]
  },
  {
   "cell_type": "code",
   "execution_count": 70,
   "metadata": {},
   "outputs": [
    {
     "data": {
      "text/plain": [
       "[102, 2, 3, 8, 23, 34, 52, 65, 76, 56, 99, 95]"
      ]
     },
     "execution_count": 70,
     "metadata": {},
     "output_type": "execute_result"
    }
   ],
   "source": [
    "# insert front\n",
    "l.insert(0,102)\n",
    "l"
   ]
  },
  {
   "cell_type": "code",
   "execution_count": 71,
   "metadata": {},
   "outputs": [
    {
     "name": "stdout",
     "output_type": "stream",
     "text": [
      "popped=95\n"
     ]
    },
    {
     "data": {
      "text/plain": [
       "[102, 2, 3, 8, 23, 34, 52, 65, 76, 56, 99]"
      ]
     },
     "execution_count": 71,
     "metadata": {},
     "output_type": "execute_result"
    }
   ],
   "source": [
    "# DEL\n",
    "# delete end / Pop\n",
    "popped = l.pop()\n",
    "print(f'{popped=}')\n",
    "l"
   ]
  },
  {
   "cell_type": "code",
   "execution_count": 72,
   "metadata": {},
   "outputs": [
    {
     "data": {
      "text/plain": [
       "[102, 2, 3, 8, 23, 34, 52, 65, 76, 56]"
      ]
     },
     "execution_count": 72,
     "metadata": {},
     "output_type": "execute_result"
    }
   ],
   "source": [
    "# remove with value\n",
    "l.remove(99)\n",
    "l"
   ]
  },
  {
   "cell_type": "code",
   "execution_count": 73,
   "metadata": {},
   "outputs": [
    {
     "data": {
      "text/plain": [
       "[102, 2, 8, 23, 34, 52, 65, 76, 56]"
      ]
     },
     "execution_count": 73,
     "metadata": {},
     "output_type": "execute_result"
    }
   ],
   "source": [
    "# remove with index\n",
    "l.remove(3)\n",
    "l"
   ]
  },
  {
   "cell_type": "code",
   "execution_count": 74,
   "metadata": {},
   "outputs": [
    {
     "name": "stdout",
     "output_type": "stream",
     "text": [
      "[56, 76, 65, 52, 34, 23, 8, 2, 102]\n"
     ]
    },
    {
     "data": {
      "text/plain": [
       "[102, 2, 8, 23, 34, 52, 65, 76, 56]"
      ]
     },
     "execution_count": 74,
     "metadata": {},
     "output_type": "execute_result"
    }
   ],
   "source": [
    "# reverse list\n",
    "l.reverse()\n",
    "print(l)\n",
    "l[-1::-1]"
   ]
  },
  {
   "cell_type": "code",
   "execution_count": 75,
   "metadata": {},
   "outputs": [
    {
     "data": {
      "text/plain": [
       "(1, 9)"
      ]
     },
     "execution_count": 75,
     "metadata": {},
     "output_type": "execute_result"
    }
   ],
   "source": [
    "# count of element v/s Count elements\n",
    "l.count(2) , len(l)"
   ]
  },
  {
   "cell_type": "code",
   "execution_count": 76,
   "metadata": {},
   "outputs": [
    {
     "name": "stdout",
     "output_type": "stream",
     "text": [
      "l=[56, 76, 65, 52, 34, 23, 8, 2, 102]\n",
      "l2=[56, 76, 65, 52, 34, 23, 8, 2, 102]\n",
      "l3=[56, 76, 65, 52, 34, 23, 8, 2, 102]\n",
      "CHANGING 1st list\n",
      "l=[56, 76, 44, 52, 34, 23, 8, 2, 102]\n",
      "l2=[56, 76, 44, 52, 34, 23, 8, 2, 102]\n",
      "l3=[56, 76, 65, 52, 34, 23, 8, 2, 102]\n",
      "CHANGING 2nd list\n",
      "l=[56, 76, 45, 52, 34, 23, 8, 2, 102]\n",
      "l2=[56, 76, 45, 52, 34, 23, 8, 2, 102]\n",
      "l3=[56, 76, 65, 52, 34, 23, 8, 2, 102]\n",
      "CHANGING 3rd list\n",
      "l=[56, 76, 45, 52, 34, 23, 8, 2, 102]\n",
      "l2=[56, 76, 45, 52, 34, 23, 8, 2, 102]\n",
      "l3=[56, 76, 65, 52, 34, 23, 8, 2, 105]\n",
      "\n"
     ]
    }
   ],
   "source": [
    "# coping \n",
    "l2 = l\n",
    "# vs\n",
    "l3 = l.copy()\n",
    "print(f'{l=}\\n{l2=}\\n{l3=}\\nCHANGING 1st list')\n",
    "l[2] = 44\n",
    "print(f'{l=}\\n{l2=}\\n{l3=}\\nCHANGING 2nd list')\n",
    "l2[3] = 45\n",
    "print(f'{l=}\\n{l2=}\\n{l3=}\\nCHANGING 3rd list')\n",
    "l3[-1] = 105\n",
    "print(f'{l=}\\n{l2=}\\n{l3=}\\n')"
   ]
  },
  {
   "cell_type": "code",
   "execution_count": 91,
   "metadata": {},
   "outputs": [
    {
     "data": {
      "text/plain": [
       "[]"
      ]
     },
     "execution_count": 91,
     "metadata": {},
     "output_type": "execute_result"
    },
    {
     "data": {
      "text/plain": [
       "[2, 2, 3]"
      ]
     },
     "execution_count": 91,
     "metadata": {},
     "output_type": "execute_result"
    },
    {
     "data": {
      "text/plain": [
       "[2, 2, 3]"
      ]
     },
     "execution_count": 91,
     "metadata": {},
     "output_type": "execute_result"
    },
    {
     "data": {
      "text/plain": [
       "[2, 3]"
      ]
     },
     "execution_count": 91,
     "metadata": {},
     "output_type": "execute_result"
    }
   ],
   "source": [
    "# ANY to list\n",
    "list()\n",
    "list([2,2,3])\n",
    "list((2,2,3))\n",
    "list({2,2,3})\n"
   ]
  },
  {
   "cell_type": "markdown",
   "metadata": {},
   "source": [
    "### List as a Stack\n",
    "The list methods make it very easy to use a list as a stack, where the last element added is the first element retrieved (“last-in, first-out”). \n",
    "To add an item to the top of the stack, use append(). \n",
    "To retrieve an item from the top of the stack, use pop() without an explicit index. "
   ]
  },
  {
   "cell_type": "code",
   "execution_count": 78,
   "metadata": {},
   "outputs": [
    {
     "data": {
      "text/plain": [
       "[10]"
      ]
     },
     "execution_count": 78,
     "metadata": {},
     "output_type": "execute_result"
    },
    {
     "data": {
      "text/plain": [
       "[10, 20]"
      ]
     },
     "execution_count": 78,
     "metadata": {},
     "output_type": "execute_result"
    },
    {
     "data": {
      "text/plain": [
       "[10, 20, 30]"
      ]
     },
     "execution_count": 78,
     "metadata": {},
     "output_type": "execute_result"
    },
    {
     "data": {
      "text/plain": [
       "[10, 20, 30, 40]"
      ]
     },
     "execution_count": 78,
     "metadata": {},
     "output_type": "execute_result"
    },
    {
     "data": {
      "text/plain": [
       "40"
      ]
     },
     "execution_count": 78,
     "metadata": {},
     "output_type": "execute_result"
    },
    {
     "data": {
      "text/plain": [
       "[10, 20, 30]"
      ]
     },
     "execution_count": 78,
     "metadata": {},
     "output_type": "execute_result"
    }
   ],
   "source": [
    "Stack = []\n",
    "Stack.append(10)\n",
    "Stack\n",
    "Stack.append(20)\n",
    "Stack\n",
    "Stack.append(30)\n",
    "Stack\n",
    "Stack.append(40)\n",
    "Stack\n",
    "Stack.pop()\n",
    "Stack"
   ]
  },
  {
   "cell_type": "markdown",
   "metadata": {},
   "source": [
    "### List as a Queue\n",
    "It is also possible to use a list as a queue, where the first element added is the first element retrieved (“first-in, first-out”); \n",
    "however, lists are not efficient for this purpose. \n",
    "While appends and pops from the end of list are fast, doing inserts or pops from the beginning of a list is slow (because all of the other elements have to be shifted by one).\n",
    "\n",
    "To implement a queue, use collections.deque which was designed to have fast appends and pops from both ends."
   ]
  },
  {
   "cell_type": "code",
   "execution_count": 79,
   "metadata": {},
   "outputs": [
    {
     "data": {
      "text/plain": [
       "deque([10])"
      ]
     },
     "execution_count": 79,
     "metadata": {},
     "output_type": "execute_result"
    },
    {
     "data": {
      "text/plain": [
       "deque([10, 20])"
      ]
     },
     "execution_count": 79,
     "metadata": {},
     "output_type": "execute_result"
    },
    {
     "data": {
      "text/plain": [
       "deque([10, 20, 30])"
      ]
     },
     "execution_count": 79,
     "metadata": {},
     "output_type": "execute_result"
    },
    {
     "data": {
      "text/plain": [
       "deque([10, 20, 30, 40])"
      ]
     },
     "execution_count": 79,
     "metadata": {},
     "output_type": "execute_result"
    },
    {
     "data": {
      "text/plain": [
       "10"
      ]
     },
     "execution_count": 79,
     "metadata": {},
     "output_type": "execute_result"
    },
    {
     "data": {
      "text/plain": [
       "deque([20, 30, 40])"
      ]
     },
     "execution_count": 79,
     "metadata": {},
     "output_type": "execute_result"
    },
    {
     "data": {
      "text/plain": [
       "20"
      ]
     },
     "execution_count": 79,
     "metadata": {},
     "output_type": "execute_result"
    },
    {
     "data": {
      "text/plain": [
       "deque([30, 40])"
      ]
     },
     "execution_count": 79,
     "metadata": {},
     "output_type": "execute_result"
    }
   ],
   "source": [
    "from collections import deque\n",
    "Queue = deque()\n",
    "Queue.append(10)\n",
    "Queue\n",
    "Queue.append(20)\n",
    "Queue\n",
    "Queue.append(30)\n",
    "Queue\n",
    "Queue.append(40)\n",
    "Queue\n",
    "Queue.popleft()\n",
    "Queue\n",
    "Queue.popleft()\n",
    "Queue"
   ]
  },
  {
   "cell_type": "markdown",
   "metadata": {},
   "source": [
    "### List Comprehensions\n",
    "List comprehensions provide a concise way to create lists. Common applications are to make new lists where each element is the result of some operations applied to each member of another sequence or iterable, or to create a subsequence of those elements that satisfy a certain condition.\n",
    "\n",
    "[f(x) for x in sequence if condition]\n",
    "\n",
    "[f(x) if condition else g(x) for x in sequence]\n",
    "\n",
    "Since Ternary in Py : \n",
    "\n",
    "a if condition else b\n",
    "\n",
    "< Exp1 > if condition else < Exp2 > if condition else < Exp3 >...  "
   ]
  },
  {
   "cell_type": "code",
   "execution_count": 80,
   "metadata": {},
   "outputs": [
    {
     "data": {
      "text/plain": [
       "[1, 2, 4, 8, 16, 32, 64, 128, 256, 512, 1024, 2048, 4096, 8192, 16384]"
      ]
     },
     "execution_count": 80,
     "metadata": {},
     "output_type": "execute_result"
    }
   ],
   "source": [
    "powers_of_2 = [2**x for x in range(15)] \n",
    "powers_of_2"
   ]
  },
  {
   "cell_type": "code",
   "execution_count": 83,
   "metadata": {},
   "outputs": [
    {
     "data": {
      "text/plain": [
       "[0, 17, 34, 51, 68, 85, 102, 119, 136, 153, 170]"
      ]
     },
     "execution_count": 83,
     "metadata": {},
     "output_type": "execute_result"
    }
   ],
   "source": [
    "multiple_of_7 = [i for i in range(171) if not i%17 ]\n",
    "multiple_of_7"
   ]
  },
  {
   "cell_type": "code",
   "execution_count": 87,
   "metadata": {},
   "outputs": [
    {
     "data": {
      "text/plain": [
       "[0, 53, 0, 35, 0, 37, 83, 35, 25, 39, 23]"
      ]
     },
     "execution_count": 87,
     "metadata": {},
     "output_type": "execute_result"
    }
   ],
   "source": [
    "# get all odd values using list compreshions\n",
    "s = '24,53,46,35,6,37,83,35,25,39,23'\n",
    "[int(i) if int(i)%2 else 0 for i in s.strip().split(',')]\n"
   ]
  },
  {
   "cell_type": "code",
   "execution_count": null,
   "metadata": {},
   "outputs": [],
   "source": []
  },
  {
   "cell_type": "markdown",
   "metadata": {},
   "source": [
    "## Tuple\n",
    "\n",
    "- immutable"
   ]
  },
  {
   "cell_type": "code",
   "execution_count": 88,
   "metadata": {},
   "outputs": [
    {
     "data": {
      "text/plain": [
       "(1, 2, 3, 4, 'c', 'hello', 3.456)"
      ]
     },
     "execution_count": 88,
     "metadata": {},
     "output_type": "execute_result"
    }
   ],
   "source": [
    "# Basics\n",
    "\n",
    "# Creating a Tuple with the use of multiple values\n",
    "Tuple_var = (1,2,3,4,'c',\"hello\",3.456)\n",
    "Tuple_var"
   ]
  },
  {
   "cell_type": "code",
   "execution_count": 92,
   "metadata": {},
   "outputs": [
    {
     "data": {
      "text/plain": [
       "((346, 'to'), ('hi', 'nice'))"
      ]
     },
     "execution_count": 92,
     "metadata": {},
     "output_type": "execute_result"
    }
   ],
   "source": [
    "\n",
    "# Creating a Multi-Dimensional List (By Nesting a list inside a List)\n",
    "tup_var_2 = ((346, 'to'), (\"hi\",\"nice\"))\n",
    "tup_var_2"
   ]
  },
  {
   "cell_type": "code",
   "execution_count": 93,
   "metadata": {},
   "outputs": [
    {
     "data": {
      "text/plain": [
       "1"
      ]
     },
     "execution_count": 93,
     "metadata": {},
     "output_type": "execute_result"
    }
   ],
   "source": [
    "# index number\n",
    "Tuple_var[0]"
   ]
  },
  {
   "cell_type": "code",
   "execution_count": 94,
   "metadata": {},
   "outputs": [
    {
     "data": {
      "text/plain": [
       "3.456"
      ]
     },
     "execution_count": 94,
     "metadata": {},
     "output_type": "execute_result"
    }
   ],
   "source": [
    "# negative indexing\n",
    "Tuple_var[-1]"
   ]
  },
  {
   "cell_type": "code",
   "execution_count": 95,
   "metadata": {},
   "outputs": [
    {
     "name": "stdout",
     "output_type": "stream",
     "text": [
      "Tuple_var[2:4]=(3, 4)\n",
      "Tuple_var[-2:2:-1]=('hello', 'c', 4)\n"
     ]
    }
   ],
   "source": [
    "# slicing\n",
    "print(f'{Tuple_var[2:4]=}\\n{Tuple_var[-2:2:-1]=}')"
   ]
  },
  {
   "cell_type": "code",
   "execution_count": 106,
   "metadata": {},
   "outputs": [
    {
     "data": {
      "text/plain": [
       "2"
      ]
     },
     "execution_count": 106,
     "metadata": {},
     "output_type": "execute_result"
    }
   ],
   "source": [
    "# indexof\n",
    "Tuple_var.index(Tuple_var[2])"
   ]
  },
  {
   "cell_type": "code",
   "execution_count": 102,
   "metadata": {},
   "outputs": [
    {
     "data": {
      "text/plain": [
       "('2m3', 45.6, 3, 2, 'f')"
      ]
     },
     "execution_count": 102,
     "metadata": {},
     "output_type": "execute_result"
    },
    {
     "data": {
      "text/plain": [
       "(23, 34, 52, 65, 8, 2, 3)"
      ]
     },
     "execution_count": 102,
     "metadata": {},
     "output_type": "execute_result"
    }
   ],
   "source": [
    "#operations\n",
    "'2m3',45.6,3,2,'f',\n",
    "tup = (23,34,52,65,8,2,3)\n",
    "tup"
   ]
  },
  {
   "cell_type": "code",
   "execution_count": 100,
   "metadata": {},
   "outputs": [
    {
     "name": "stdout",
     "output_type": "stream",
     "text": [
      "COPIED SORT : tup=(23, 34, 52, 65, 8, 2, 3) -> s_tup=[2, 3, 8, 23, 34, 52, 65]\n"
     ]
    }
   ],
   "source": [
    "# copied sort\n",
    "s_tup = sorted(tup,key=None,reverse=False) # -> list\n",
    "print(f'COPIED SORT : {tup=} -> {s_tup=}')\n",
    "# inplace sort NOT POSSIBLE since tuples are immutable\n",
    "# tup.sort(key=None,reverse=False) \n",
    "# print(f'inplace SORT : {tup=}')"
   ]
  },
  {
   "cell_type": "code",
   "execution_count": 107,
   "metadata": {},
   "outputs": [
    {
     "data": {
      "text/plain": [
       "(1, 7)"
      ]
     },
     "execution_count": 107,
     "metadata": {},
     "output_type": "execute_result"
    }
   ],
   "source": [
    "# count of element v/s Count elements\n",
    "tup.count(2) , len(tup)"
   ]
  },
  {
   "cell_type": "code",
   "execution_count": 112,
   "metadata": {},
   "outputs": [
    {
     "data": {
      "text/plain": [
       "((23, 34, 52, 65, 8, 2, 3), (23, 34, 52, 65, 8, 2, 3))"
      ]
     },
     "execution_count": 112,
     "metadata": {},
     "output_type": "execute_result"
    }
   ],
   "source": [
    "# coping \n",
    "tup2 = tup\n",
    "tup2,tup"
   ]
  },
  {
   "cell_type": "code",
   "execution_count": 113,
   "metadata": {},
   "outputs": [
    {
     "data": {
      "text/plain": [
       "('Mahanth', 'Btech', 544, '1900A0544')"
      ]
     },
     "execution_count": 113,
     "metadata": {},
     "output_type": "execute_result"
    }
   ],
   "source": [
    "# Pack and Unpack\n",
    "d = 'Mahanth','Btech',544,'1900A0544'\n",
    "Name, uG , id, rollNo = d\n",
    "Name, uG , id, rollNo"
   ]
  },
  {
   "cell_type": "code",
   "execution_count": null,
   "metadata": {},
   "outputs": [],
   "source": []
  },
  {
   "cell_type": "markdown",
   "metadata": {},
   "source": []
  }
 ],
 "metadata": {
  "kernelspec": {
   "display_name": "DS_Kernel",
   "language": "python",
   "name": "ds"
  },
  "language_info": {
   "codemirror_mode": {
    "name": "ipython",
    "version": 3
   },
   "file_extension": ".py",
   "mimetype": "text/x-python",
   "name": "python",
   "nbconvert_exporter": "python",
   "pygments_lexer": "ipython3",
   "version": "3.9.12"
  },
  "orig_nbformat": 4
 },
 "nbformat": 4,
 "nbformat_minor": 2
}
